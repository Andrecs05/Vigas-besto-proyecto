{
 "cells": [
  {
   "cell_type": "markdown",
   "metadata": {},
   "source": [
    "#Código Vigas PEII\n",
    "##### Andrés Felipe Contreras, Melany Daza, Katherin Nohava"
   ]
  },
  {
   "cell_type": "code",
   "execution_count": 1,
   "metadata": {},
   "outputs": [
    {
     "name": "stderr",
     "output_type": "stream",
     "text": [
      "\n",
      "[notice] A new release of pip is available: 24.0 -> 24.2\n",
      "[notice] To update, run: python.exe -m pip install --upgrade pip\n"
     ]
    },
    {
     "name": "stdout",
     "output_type": "stream",
     "text": [
      "Requirement already satisfied: sympy in c:\\users\\andre\\iclouddrive\\uni\\tercero\\proyecto\\vigasenv\\lib\\site-packages (1.13.3)\n",
      "Requirement already satisfied: mpmath<1.4,>=1.1.0 in c:\\users\\andre\\iclouddrive\\uni\\tercero\\proyecto\\vigasenv\\lib\\site-packages (from sympy) (1.3.0)\n"
     ]
    }
   ],
   "source": [
    "#!pip install sv-ttk\n",
    "#!pip install matplotlib\n",
    "!pip install sympy\n",
    "import matplotlib.pyplot as plt \n",
    "import numpy as np \n",
    "import sympy as sp\n",
    "import tkinter as tk\n",
    "from Funciones import *\n",
    "from tkinter import ttk\n",
    "import sv_ttk\n",
    "from matplotlib.backends.backend_tkagg import FigureCanvasTkAgg as plot_widget\n"
   ]
  },
  {
   "cell_type": "markdown",
   "metadata": {},
   "source": [
    "###Interface"
   ]
  },
  {
   "cell_type": "code",
   "execution_count": 2,
   "metadata": {},
   "outputs": [
    {
     "name": "stdout",
     "output_type": "stream",
     "text": [
      "32417.999999999996 1556172.0599999998\n"
     ]
    },
    {
     "data": {
      "image/png": "[encoded data removed]",
      "text/plain": [
       "<Figure size 500x200 with 1 Axes>"
      ]
     },
     "metadata": {},
     "output_type": "display_data"
    },
    {
     "data": {
      "image/png": "[encoded data removed]",
      "text/plain": [
       "<Figure size 500x200 with 1 Axes>"
      ]
     },
     "metadata": {},
     "output_type": "display_data"
    },
    {
     "data": {
      "image/png": "[encoded data removed]",
      "text/plain": [
       "<Figure size 500x200 with 1 Axes>"
      ]
     },
     "metadata": {},
     "output_type": "display_data"
    },
    {
     "name": "stdout",
     "output_type": "stream",
     "text": [
      "143.6674951786973 1566029.0274375272\n",
      "124581.66749517852 8661425.994875036\n"
     ]
    }
   ],
   "source": [
    "ui = tk.Tk()\n",
    "ui.title(\"Análisis de vigas\")\n",
    "ui.geometry(\"1260x900\")\n",
    "sv_ttk.set_theme(\"dark\")\n",
    "\n",
    "vcmd = (ui.register(validate_numeric_input), '%d', '%P')\n",
    "\n",
    "#grid\n",
    "\n",
    "for i in range(0, 1260, 50):\n",
    "    grid = ttk.Label(ui, text=\"|\"+str(i), font=(\"Arial\", 8))\n",
    "    grid.place(x=i, y=0)\n",
    "\n",
    "#Inputs\n",
    "\n",
    "title1 = ttk.Label(ui, text=\"Introduzca datos de la viga\", font=(\"Arial\", 16))\n",
    "title1.place(x=50, y=20)   \n",
    "\n",
    "#Tamaño\n",
    "\n",
    "title_tamaño = ttk.Label(ui, text=\"Tamaño de la viga (m)\", font=(\"Arial\", 12))\n",
    "title_tamaño.place(x=10, y=60)  \n",
    "\n",
    "tam = ttk.Entry(ui, width=8, textvariable=tk.IntVar(), validate='key', validatecommand=vcmd) \n",
    "tam.place(x=10, y=80)\n",
    "\n",
    "tambutton = ttk.Button(ui, text=\"Aceptar\", command=lambda: update_build(tam, valor_tamaño))\n",
    "tambutton.place(x=100, y=80)\n",
    "\n",
    "#Tipo\n",
    "\n",
    "title_tipo = ttk.Label(ui, text=\"Tipo de viga\", font=(\"Arial\", 12))\n",
    "title_tipo.place(x=10, y=120)\n",
    "\n",
    "elegir_tipo = ttk.Combobox(ui, width=4, values=[\"Cantilever\", \"Apoyada\"])\n",
    "elegir_tipo.place(x=10, y=140)\n",
    "\n",
    "tipobutton = ttk.Button(ui, text=\"Aceptar\", command=lambda: update_disable(elegir_tipo, valor_tipo,elegir_tipo,apoyo1,apoyo2,apo1button,apo2button))\n",
    "tipobutton.place(x=100, y=140)\n",
    "\n",
    "#Apoyos\n",
    "\n",
    "title_apoyos = ttk.Label(ui, text=\"Posición de los apoyos\", font=(\"Arial\", 12))\n",
    "title_apoyos.place(x=10, y=180)\n",
    "\n",
    "text_apoyo1 = ttk.Label(ui, text=\"Apoyo 1\", font=(\"Arial\", 10))\n",
    "text_apoyo1.place(x=30, y=200)\n",
    "\n",
    "apoyo1 = ttk.Entry(ui, width=8, textvariable=tk.IntVar(), validate='key', validatecommand=vcmd)\n",
    "apoyo1.place(x=10, y=220)\n",
    "\n",
    "apo1button = ttk.Button(ui, text=\"Aceptar\", command=lambda: update_supports(apoyo1, valor_apoyo1,1))\n",
    "apo1button.place(x=100, y=220)\n",
    "\n",
    "text_apoyo2 = ttk.Label(ui, text=\"Apoyo 2\", font=(\"Arial\", 10))\n",
    "text_apoyo2.place(x=30, y=260)\n",
    "\n",
    "apoyo2 = ttk.Entry(ui, width=8, textvariable=tk.IntVar(), validate='key', validatecommand=vcmd)\n",
    "apoyo2.place(x=10, y=280)\n",
    "\n",
    "apo2button = ttk.Button(ui, text=\"Aceptar\", command=lambda: update_supports(apoyo2, valor_apoyo2,2))\n",
    "apo2button.place(x=100, y=280)\n",
    "\n",
    "#Cargas puntuales\n",
    "\n",
    "title_cargas = ttk.Label(ui, text=\"Cargas puntuales\", font=(\"Arial\", 12))\n",
    "title_cargas.place(x=10, y=320)\n",
    "\n",
    "text_poscarga = ttk.Label(ui, text=\"Posición (m)\", font=(\"Arial\", 10))\n",
    "text_poscarga.place(x=30, y=340)\n",
    "\n",
    "cargapuntualpos = ttk.Entry(ui, width=8, textvariable=tk.IntVar(), validate='key', validatecommand=vcmd)\n",
    "cargapuntualpos.place(x=10, y=360)\n",
    "\n",
    "text_magnitud = ttk.Label(ui, text=\"Magnitud (N)\", font=(\"Arial\", 10))\n",
    "text_magnitud.place(x=115, y=340)\n",
    "\n",
    "cargapuntualmag = ttk.Entry(ui, width=8, textvariable=tk.IntVar())\n",
    "cargapuntualmag.place(x=100, y=360)\n",
    "\n",
    "tipobutton = ttk.Button(ui, text=\"Agregar\", command=lambda: point_load(cargapuntualpos, cargapuntualmag))\n",
    "tipobutton.place(x=190, y=360)\n",
    "\n",
    "#Momentos puntuales\n",
    "\n",
    "title_momentos = ttk.Label(ui, text=\"Momentos puntuales\", font=(\"Arial\", 12))\n",
    "title_momentos.place(x=10, y=400)\n",
    "\n",
    "text_posmomento = ttk.Label(ui, text=\"Posición (m)\", font=(\"Arial\", 10))\n",
    "text_posmomento.place(x=30, y=420)\n",
    "\n",
    "momentopos = ttk.Entry(ui, width=8, textvariable=tk.IntVar(), validate='key', validatecommand=vcmd)\n",
    "momentopos.place(x=10, y=440)\n",
    "\n",
    "text_magnitud = ttk.Label(ui, text=\"Magnitud (Nm)\", font=(\"Arial\", 10))\n",
    "text_magnitud.place(x=115, y=420)\n",
    "\n",
    "momentomag = ttk.Entry(ui, width=8, textvariable=tk.IntVar(), validate='key', validatecommand=vcmd)\n",
    "momentomag.place(x=100, y=440)\n",
    "\n",
    "tipobutton = ttk.Button(ui, text=\"Agregar\", command=lambda: point_moment(momentopos, momentomag))\n",
    "tipobutton.place(x=190, y=440)\n",
    "\n",
    "#Cargas distribuidas\n",
    "\n",
    "title_distribuidas = ttk.Label(ui, text=\"Cargas distribuidas\", font=(\"Arial\", 12))\n",
    "title_distribuidas.place(x=10, y=480)\n",
    "\n",
    "text_expression = ttk.Label(ui, text=\"Expresión matématica (en terminos de x)\", font=(\"Arial\", 10))\n",
    "text_expression.place(x=30, y=500)\n",
    "\n",
    "load_expression = ttk.Entry(ui, width=30, textvariable=tk.IntVar())\n",
    "load_expression.place(x=10, y=520)\n",
    "\n",
    "text_pos_ini = ttk.Label(ui, text=\"Inicio (m)\", font=(\"Arial\", 10))\n",
    "text_pos_ini.place(x=30, y=560)\n",
    "\n",
    "dist_ini = ttk.Entry(ui, width=8, textvariable=tk.IntVar(), validate='key', validatecommand=vcmd)\n",
    "dist_ini.place(x=10, y=580)\n",
    "\n",
    "text_pos_fin = ttk.Label(ui, text=\"Fin (m)\", font=(\"Arial\", 10))\n",
    "text_pos_fin.place(x=115, y=560)\n",
    "\n",
    "dist_fin = ttk.Entry(ui, width=8, textvariable=tk.IntVar(), validate='key', validatecommand=vcmd)\n",
    "dist_fin.place(x=100, y=580)\n",
    "\n",
    "distbutton = ttk.Button(ui, text=\"Agregar\", command=lambda: distributed_load(dist_ini, dist_fin, load_expression))\n",
    "distbutton.place(x=190, y=580)\n",
    "\n",
    "#Calcular \n",
    "\n",
    "calcular = ttk.Button(ui, text=\"Calcular\", command=lambda: calculate_beam(beamgraph,figbeam,sheargraph,figshear,momentgraph,figmoment))\n",
    "calcular.place(x=10, y=800)\n",
    "\n",
    "#Datos\n",
    "\n",
    "tamaño = ttk.Label(ui, text= \"Longitud (m): \", font=(\"Arial\", 12))\n",
    "tamaño.place(x=500, y=40)\n",
    "\n",
    "valor_tamaño = ttk.Label(ui, text= \"\", font=(\"Arial\", 12))\n",
    "valor_tamaño.place(x=600, y=40)\n",
    "\n",
    "tipo = ttk.Label(ui, text= \"Tipo de viga: \", font=(\"Arial\", 12))\n",
    "tipo.place(x=500, y=60)\n",
    "\n",
    "valor_tipo = ttk.Label(ui, text= \"\", font=(\"Arial\", 12))\n",
    "valor_tipo.place(x=600, y=60)\n",
    "\n",
    "pos_apoyo1 = ttk.Label(ui, text= \"Apoyo 1: \", font=(\"Arial\", 12))\n",
    "pos_apoyo1.place(x=500, y=80)\n",
    "\n",
    "valor_apoyo1 = ttk.Label(ui, text= \"\", font=(\"Arial\", 12))\n",
    "valor_apoyo1.place(x=600, y=80)\n",
    "\n",
    "pos_apoyo2 = ttk.Label(ui, text= \"Apoyo 2: \", font=(\"Arial\", 12))\n",
    "pos_apoyo2.place(x=500, y=100)\n",
    "\n",
    "valor_apoyo2 = ttk.Label(ui, text= \"\", font=(\"Arial\", 12))\n",
    "valor_apoyo2.place(x=600, y=100)\n",
    "\n",
    "#Gráficas\n",
    "\n",
    "#Dibujo\n",
    "\n",
    "figbeam, ax = plt.subplots(figsize=(5, 2))\n",
    "\n",
    "beamgraph = plot_widget(figbeam, master=ui)\n",
    "beamgraph.get_tk_widget().place(x=700, y=20)\n",
    "\n",
    "#Cortantes\n",
    "\n",
    "figshear, ax = plt.subplots(figsize=(5, 2))\n",
    "\n",
    "sheargraph = plot_widget(figshear, master=ui)\n",
    "sheargraph.get_tk_widget().place(x=700, y=300)\n",
    "\n",
    "#Momentos\n",
    "\n",
    "figmoment, ax = plt.subplots(figsize=(5, 2))\n",
    "\n",
    "momentgraph = plot_widget(figmoment, master=ui)\n",
    "momentgraph.get_tk_widget().place(x=700, y=580)\n",
    "\n",
    "ui.mainloop()\n"
   ]
  }
 ],
 "metadata": {
  "kernelspec": {
   "display_name": ".venv",
   "language": "python",
   "name": "python3"
  },
  "language_info": {
   "codemirror_mode": {
    "name": "ipython",
    "version": 3
   },
   "file_extension": ".py",
   "mimetype": "text/x-python",
   "name": "python",
   "nbconvert_exporter": "python",
   "pygments_lexer": "ipython3",
   "version": "3.11.9"
  }
 },
 "nbformat": 4,
 "nbformat_minor": 2
}
